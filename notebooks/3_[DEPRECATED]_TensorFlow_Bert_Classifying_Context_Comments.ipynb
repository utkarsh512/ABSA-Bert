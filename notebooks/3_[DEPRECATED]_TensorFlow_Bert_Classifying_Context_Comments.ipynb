{
  "nbformat": 4,
  "nbformat_minor": 0,
  "metadata": {
    "colab": {
      "name": "3-[DEPRECATED]-TensorFlow-Bert-Classifying-Context-Comments.ipynb",
      "provenance": [],
      "collapsed_sections": [],
      "authorship_tag": "ABX9TyMwlc3PdwRR4ghsTX/MpGc/",
      "include_colab_link": true
    },
    "kernelspec": {
      "name": "python3",
      "display_name": "Python 3"
    },
    "accelerator": "GPU"
  },
  "cells": [
    {
      "cell_type": "markdown",
      "metadata": {
        "id": "view-in-github",
        "colab_type": "text"
      },
      "source": [
        "<a href=\"https://colab.research.google.com/github/utkarsh512/ABSA-Bert/blob/main/notebooks/3_%5BDEPRECATED%5D_TensorFlow_Bert_Classifying_Context_Comments.ipynb\" target=\"_parent\"><img src=\"https://colab.research.google.com/assets/colab-badge.svg\" alt=\"Open In Colab\"/></a>"
      ]
    },
    {
      "cell_type": "markdown",
      "metadata": {
        "id": "Nir7dl87bbz5"
      },
      "source": [
        "__Notes__: This notebook is deprecated."
      ]
    },
    {
      "cell_type": "markdown",
      "metadata": {
        "id": "3JH0Htj_zKyG"
      },
      "source": [
        "# Predicting nature of future comment as ad-hominem and delta by training on preceding comments using BERT\n",
        "Before running this notebook, make sure you have already finished running `1-prepare-dataset.ipynb` "
      ]
    },
    {
      "cell_type": "code",
      "metadata": {
        "colab": {
          "base_uri": "https://localhost:8080/"
        },
        "id": "8clbHKgxzJA8",
        "outputId": "72d2a557-1716-4b5e-b7e0-f2d941ed25bd"
      },
      "source": [
        "from google.colab import drive\n",
        "drive.mount('/content/gdrive')"
      ],
      "execution_count": null,
      "outputs": [
        {
          "output_type": "stream",
          "text": [
            "Mounted at /content/gdrive\n"
          ],
          "name": "stdout"
        }
      ]
    },
    {
      "cell_type": "code",
      "metadata": {
        "colab": {
          "base_uri": "https://localhost:8080/"
        },
        "id": "GT1re8FLz7cI",
        "outputId": "27658eb6-dfbc-462b-c3bc-592728bc6e11"
      },
      "source": [
        "!pip install -q tensorflow-text\n",
        "!pip install -q tf-models-official"
      ],
      "execution_count": null,
      "outputs": [
        {
          "output_type": "stream",
          "text": [
            "\u001b[K     |████████████████████████████████| 3.4MB 5.7MB/s \n",
            "\u001b[K     |████████████████████████████████| 1.1MB 5.9MB/s \n",
            "\u001b[K     |████████████████████████████████| 102kB 13.1MB/s \n",
            "\u001b[K     |████████████████████████████████| 37.6MB 79kB/s \n",
            "\u001b[K     |████████████████████████████████| 174kB 57.0MB/s \n",
            "\u001b[K     |████████████████████████████████| 1.2MB 55.9MB/s \n",
            "\u001b[K     |████████████████████████████████| 706kB 42.6MB/s \n",
            "\u001b[K     |████████████████████████████████| 358kB 53.4MB/s \n",
            "\u001b[K     |████████████████████████████████| 645kB 48.7MB/s \n",
            "\u001b[K     |████████████████████████████████| 51kB 8.3MB/s \n",
            "\u001b[?25h  Building wheel for py-cpuinfo (setup.py) ... \u001b[?25l\u001b[?25hdone\n",
            "  Building wheel for seqeval (setup.py) ... \u001b[?25l\u001b[?25hdone\n"
          ],
          "name": "stdout"
        }
      ]
    },
    {
      "cell_type": "code",
      "metadata": {
        "id": "fIDuwaX_0og-"
      },
      "source": [
        "import tensorflow as tf\n",
        "import tensorflow_hub as hub\n",
        "import tensorflow_text as text\n",
        "from official.nlp import optimization  # to create AdamW optmizer\n",
        "\n",
        "tf.get_logger().setLevel('ERROR')"
      ],
      "execution_count": null,
      "outputs": []
    },
    {
      "cell_type": "code",
      "metadata": {
        "colab": {
          "base_uri": "https://localhost:8080/"
        },
        "id": "SsXEimKv0yi2",
        "outputId": "7f8e762c-e542-42d3-c2bd-cb2b2e3bb590"
      },
      "source": [
        "import os\n",
        "\n",
        "if tf.test.is_gpu_available():\n",
        "  strategy = tf.distribute.MirroredStrategy()\n",
        "  print('Using GPU')\n",
        "else:\n",
        "  raise ValueError('Running on CPU is not recomended.')"
      ],
      "execution_count": null,
      "outputs": [
        {
          "output_type": "stream",
          "text": [
            "Using GPU\n"
          ],
          "name": "stdout"
        }
      ]
    },
    {
      "cell_type": "code",
      "metadata": {
        "colab": {
          "base_uri": "https://localhost:8080/"
        },
        "id": "l8ypzFHXJ75J",
        "outputId": "d58d7edf-9074-4c95-fca2-fb0bb9a517e0"
      },
      "source": [
        "!nvidia-smi"
      ],
      "execution_count": null,
      "outputs": [
        {
          "output_type": "stream",
          "text": [
            "Mon Mar 15 02:54:20 2021       \n",
            "+-----------------------------------------------------------------------------+\n",
            "| NVIDIA-SMI 460.56       Driver Version: 460.32.03    CUDA Version: 11.2     |\n",
            "|-------------------------------+----------------------+----------------------+\n",
            "| GPU  Name        Persistence-M| Bus-Id        Disp.A | Volatile Uncorr. ECC |\n",
            "| Fan  Temp  Perf  Pwr:Usage/Cap|         Memory-Usage | GPU-Util  Compute M. |\n",
            "|                               |                      |               MIG M. |\n",
            "|===============================+======================+======================|\n",
            "|   0  Tesla P100-PCIE...  Off  | 00000000:00:04.0 Off |                    0 |\n",
            "| N/A   39C    P0    32W / 250W |    349MiB / 16280MiB |      0%      Default |\n",
            "|                               |                      |                  N/A |\n",
            "+-------------------------------+----------------------+----------------------+\n",
            "                                                                               \n",
            "+-----------------------------------------------------------------------------+\n",
            "| Processes:                                                                  |\n",
            "|  GPU   GI   CI        PID   Type   Process name                  GPU Memory |\n",
            "|        ID   ID                                                   Usage      |\n",
            "|=============================================================================|\n",
            "+-----------------------------------------------------------------------------+\n"
          ],
          "name": "stdout"
        }
      ]
    },
    {
      "cell_type": "code",
      "metadata": {
        "id": "s0XNtwiy06S3"
      },
      "source": [
        "os.environ[\"TFHUB_MODEL_LOAD_FORMAT\"]=\"UNCOMPRESSED\""
      ],
      "execution_count": null,
      "outputs": []
    },
    {
      "cell_type": "code",
      "metadata": {
        "id": "mxxxIsYL1ETO"
      },
      "source": [
        "dataset_dir = '/content/gdrive/MyDrive/DL/fallacy/data/context'"
      ],
      "execution_count": null,
      "outputs": []
    },
    {
      "cell_type": "code",
      "metadata": {
        "colab": {
          "base_uri": "https://localhost:8080/"
        },
        "id": "BOrFG6fA1LG2",
        "outputId": "b41ac7d3-8783-42a2-e326-5f1229f34e3f"
      },
      "source": [
        "AUTOTUNE = tf.data.AUTOTUNE\n",
        "batch_size = 32\n",
        "seed = 42\n",
        "\n",
        "raw_train_ds = tf.keras.preprocessing.text_dataset_from_directory(\n",
        "    dataset_dir,\n",
        "    batch_size=batch_size,\n",
        "    validation_split=0.2,\n",
        "    subset='training',\n",
        "    seed=seed)\n",
        "\n",
        "class_names = raw_train_ds.class_names\n",
        "train_ds = raw_train_ds.cache().prefetch(buffer_size=AUTOTUNE)\n",
        "\n",
        "val_ds = tf.keras.preprocessing.text_dataset_from_directory(\n",
        "    dataset_dir,\n",
        "    batch_size=batch_size,\n",
        "    validation_split=0.2,\n",
        "    subset='validation',\n",
        "    seed=seed)\n",
        "\n",
        "val_ds = val_ds.cache().prefetch(buffer_size=AUTOTUNE)"
      ],
      "execution_count": null,
      "outputs": [
        {
          "output_type": "stream",
          "text": [
            "Found 2582 files belonging to 2 classes.\n",
            "Using 2066 files for training.\n",
            "Found 2582 files belonging to 2 classes.\n",
            "Using 516 files for validation.\n"
          ],
          "name": "stdout"
        }
      ]
    },
    {
      "cell_type": "code",
      "metadata": {
        "id": "7VvN8esZ1P5W"
      },
      "source": [
        "tfhub_handle_encoder = 'https://tfhub.dev/tensorflow/bert_en_uncased_L-12_H-768_A-12/3'\n",
        "tfhub_handle_preprocess = 'https://tfhub.dev/tensorflow/bert_en_uncased_preprocess/3'"
      ],
      "execution_count": null,
      "outputs": []
    },
    {
      "cell_type": "code",
      "metadata": {
        "id": "wIiQN_CX1X8O"
      },
      "source": [
        "def build_classifier_model():\n",
        "  text_input = tf.keras.layers.Input(shape=(), dtype=tf.string, name='text')\n",
        "  preprocessing_layer = hub.KerasLayer(tfhub_handle_preprocess, name='preprocessing')\n",
        "  encoder_inputs = preprocessing_layer(text_input)\n",
        "  encoder = hub.KerasLayer(tfhub_handle_encoder, trainable=True, name='BERT_encoder')\n",
        "  outputs = encoder(encoder_inputs)\n",
        "  net = outputs['pooled_output']\n",
        "  net = tf.keras.layers.Dropout(0.1)(net)\n",
        "  net = tf.keras.layers.Dense(1, activation=None, name='classifier')(net)\n",
        "  return tf.keras.Model(text_input, net)"
      ],
      "execution_count": null,
      "outputs": []
    },
    {
      "cell_type": "code",
      "metadata": {
        "colab": {
          "base_uri": "https://localhost:8080/"
        },
        "id": "pcpkP3Rl2Fhe",
        "outputId": "cea9720f-8fbc-469a-b882-6a0bd7519d76"
      },
      "source": [
        "history = None\n",
        "\n",
        "with strategy.scope():\n",
        "    loss = tf.keras.losses.BinaryCrossentropy(from_logits=True)\n",
        "    metrics = tf.metrics.BinaryAccuracy()\n",
        "    epochs = 3\n",
        "    steps_per_epoch = tf.data.experimental.cardinality(train_ds).numpy()\n",
        "    num_train_steps = steps_per_epoch * epochs\n",
        "    num_warmup_steps = int(0.1*num_train_steps)\n",
        "\n",
        "    init_lr = 3e-5\n",
        "    optimizer = optimization.create_optimizer(init_lr=init_lr, num_train_steps=num_train_steps, num_warmup_steps=num_warmup_steps, optimizer_type='adamw')\n",
        "    classifier_model = build_classifier_model()\n",
        "    classifier_model.compile(optimizer=optimizer, loss=loss, metrics=metrics)\n",
        "    print(f'Training model with {tfhub_handle_encoder}')\n",
        "    history = classifier_model.fit(x=train_ds, validation_data=val_ds, epochs=epochs)"
      ],
      "execution_count": null,
      "outputs": [
        {
          "output_type": "stream",
          "text": [
            "Training model with https://tfhub.dev/tensorflow/bert_en_uncased_L-12_H-768_A-12/3\n",
            "Epoch 1/3\n",
            "65/65 [==============================] - 59s 631ms/step - loss: 0.7128 - binary_accuracy: 0.5290 - val_loss: 0.5773 - val_binary_accuracy: 0.7016\n",
            "Epoch 2/3\n",
            "65/65 [==============================] - 39s 601ms/step - loss: 0.5577 - binary_accuracy: 0.7188 - val_loss: 0.5755 - val_binary_accuracy: 0.7171\n",
            "Epoch 3/3\n",
            "65/65 [==============================] - 39s 602ms/step - loss: 0.4065 - binary_accuracy: 0.8238 - val_loss: 0.5988 - val_binary_accuracy: 0.7248\n"
          ],
          "name": "stdout"
        }
      ]
    },
    {
      "cell_type": "code",
      "metadata": {
        "colab": {
          "base_uri": "https://localhost:8080/",
          "height": 444
        },
        "id": "o78a0V2OF35_",
        "outputId": "d97be46b-44d7-4a11-f13a-d0a7918cbe27"
      },
      "source": [
        "import matplotlib.pyplot as plt\n",
        "import seaborn as sns\n",
        "\n",
        "sns.set_style(\"darkgrid\")\n",
        "sns.set(rc={'figure.figsize':(15, 10)})\n",
        "\n",
        "history_dict = history.history\n",
        "print(history_dict.keys())\n",
        "\n",
        "acc = history_dict['binary_accuracy']\n",
        "val_acc = history_dict['val_binary_accuracy']\n",
        "loss = history_dict['loss']\n",
        "val_loss = history_dict['val_loss']\n",
        "\n",
        "epochs = range(1, len(acc) + 1)\n",
        "fig = plt.figure(figsize=(10, 6))\n",
        "fig.tight_layout()\n",
        "\n",
        "plt.plot(epochs, acc, 'r', label='Training acc')\n",
        "plt.plot(epochs, val_acc, 'b', label='Validation acc')\n",
        "plt.title('Training and validation accuracy')\n",
        "plt.xlabel('Epochs')\n",
        "plt.ylabel('Accuracy')\n",
        "plt.legend(loc='lower right')"
      ],
      "execution_count": null,
      "outputs": [
        {
          "output_type": "stream",
          "text": [
            "dict_keys(['loss', 'binary_accuracy', 'val_loss', 'val_binary_accuracy'])\n"
          ],
          "name": "stdout"
        },
        {
          "output_type": "execute_result",
          "data": {
            "text/plain": [
              "<matplotlib.legend.Legend at 0x7f37127a6850>"
            ]
          },
          "metadata": {
            "tags": []
          },
          "execution_count": 23
        },
        {
          "output_type": "display_data",
          "data": {
            "image/png": "[encoded data removed]",
            "text/plain": [
              "<Figure size 720x432 with 1 Axes>"
            ]
          },
          "metadata": {
            "tags": []
          }
        }
      ]
    },
    {
      "cell_type": "code",
      "metadata": {
        "id": "y3KWTrLyGHba",
        "colab": {
          "base_uri": "https://localhost:8080/"
        },
        "outputId": "2dccc89a-89bc-47e7-ff6b-f007c9b4faa9"
      },
      "source": [
        "from tqdm import tqdm\n",
        "\n",
        "test_ds = list(val_ds.as_numpy_iterator())\n",
        "\n",
        "count = dict()\n",
        "count['ah-ah'] = 0\n",
        "count['ah-none'] = 0\n",
        "count['none-none'] = 0\n",
        "count['none-ah'] = 0\n",
        "\n",
        "for i in tqdm(range(len(test_ds)), unit=\" batches\", desc=\"Batch processed\"):\n",
        "  comments = list(test_ds[i][0])\n",
        "  gold_labels = list(test_ds[i][1])\n",
        "  for j in range(len(comments)):\n",
        "    comment = list()\n",
        "    comment.append(comments[j])\n",
        "    gold_label = gold_labels[j]\n",
        "    result = tf.sigmoid(classifier_model(tf.constant(comment)))[0]\n",
        "    true_label = 'ah'\n",
        "    if gold_label == 1:\n",
        "      true_label = 'none'\n",
        "    pred_label = 'ah'\n",
        "    if result > 0.5:\n",
        "      pred_label = 'none'\n",
        "    hsh = true_label + '-' + pred_label\n",
        "    count[hsh] += 1"
      ],
      "execution_count": null,
      "outputs": [
        {
          "output_type": "stream",
          "text": [
            "Batch processed: 100%|██████████| 17/17 [00:07<00:00,  2.21 batches/s]\n"
          ],
          "name": "stderr"
        }
      ]
    },
    {
      "cell_type": "code",
      "metadata": {
        "colab": {
          "base_uri": "https://localhost:8080/"
        },
        "id": "n8j-rItx7I-X",
        "outputId": "e715790d-3048-46f2-b3ed-b2428161c546"
      },
      "source": [
        "print(count)"
      ],
      "execution_count": null,
      "outputs": [
        {
          "output_type": "stream",
          "text": [
            "{'ah-ah': 168, 'ah-none': 84, 'none-none': 206, 'none-ah': 58}\n"
          ],
          "name": "stdout"
        }
      ]
    },
    {
      "cell_type": "code",
      "metadata": {
        "id": "4kQ3kaBX7Nw6"
      },
      "source": [
        ""
      ],
      "execution_count": null,
      "outputs": []
    }
  ]
}